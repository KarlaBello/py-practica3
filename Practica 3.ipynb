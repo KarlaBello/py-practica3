{
 "cells": [
  {
   "cell_type": "markdown",
   "id": "241b2373",
   "metadata": {},
   "source": [
    "# <center>Práctica 3<center>\n",
    "\n",
    "Objetivo:\n",
    "El objetivo de esta práctica es familiarizarte con los diferentes tipos de datos en Python y cómo trabajar con ellos."
   ]
  },
  {
   "cell_type": "markdown",
   "id": "63f9e2f6",
   "metadata": {},
   "source": [
    "## 1- Escribe una breve descripción de los Tipos de Objetos y Estructuras de Datos que se muestran a continuación: \n",
    "\n",
    "* #### Number \n",
    "\n",
    "* #### String\n",
    "\n",
    "* #### List\n",
    "\n",
    "* #### Set\n",
    "\n",
    "* #### Tuple\n",
    "\n",
    "* #### Dictionarie\n",
    "\n",
    "Puedes editar la celda haciendo doble clic sobre ella. "
   ]
  },
  {
   "cell_type": "markdown",
   "id": "ee520963",
   "metadata": {},
   "source": [
    "## 2- Cúal es la diferencia entre List, Typle y Set?"
   ]
  },
  {
   "cell_type": "markdown",
   "id": "60f5e569",
   "metadata": {},
   "source": []
  },
  {
   "cell_type": "markdown",
   "id": "94c4c67d",
   "metadata": {},
   "source": [
    "## 3- Crea una lista que contenga números enteros y flotantes e imprimela\n"
   ]
  },
  {
   "cell_type": "code",
   "execution_count": null,
   "id": "b54bc01e",
   "metadata": {},
   "outputs": [],
   "source": []
  },
  {
   "cell_type": "markdown",
   "id": "943c13a1",
   "metadata": {},
   "source": [
    "## 4- Crea una tupla que contenga algunos Strings e imprimela"
   ]
  },
  {
   "cell_type": "code",
   "execution_count": null,
   "id": "4ce63ffb",
   "metadata": {},
   "outputs": [],
   "source": []
  },
  {
   "cell_type": "markdown",
   "id": "66cc1b05",
   "metadata": {},
   "source": [
    "## 5- Crea un diccionario que tenga como claves algunas de las cadenas de la tupla creada antes y como valores algunos de los números de la lista creada antes e imprime"
   ]
  },
  {
   "cell_type": "code",
   "execution_count": null,
   "id": "e48aaca3",
   "metadata": {},
   "outputs": [],
   "source": []
  },
  {
   "cell_type": "markdown",
   "id": "020fab64",
   "metadata": {},
   "source": [
    "## 6- Escribe una ecuación de como resultado 150,75 utilizando la multiplicación, la división, la potencia, la raíz cuadrada, la suma y la resta "
   ]
  },
  {
   "cell_type": "code",
   "execution_count": null,
   "id": "c76f4670",
   "metadata": {},
   "outputs": [],
   "source": []
  },
  {
   "cell_type": "markdown",
   "id": "f325a5d7",
   "metadata": {},
   "source": [
    "## 7- Añade un número al listado creado en el punto 3"
   ]
  },
  {
   "cell_type": "code",
   "execution_count": null,
   "id": "7d886a09",
   "metadata": {},
   "outputs": [],
   "source": []
  },
  {
   "cell_type": "markdown",
   "id": "65fc6d3e",
   "metadata": {},
   "source": [
    "## 8- Convierte el listado anterior en un set e imprimelo"
   ]
  },
  {
   "cell_type": "code",
   "execution_count": null,
   "id": "0e3e5e0e",
   "metadata": {},
   "outputs": [],
   "source": []
  },
  {
   "cell_type": "markdown",
   "id": "ea5d9aed",
   "metadata": {},
   "source": [
    "## 9- Utiliza los index y las llaves para acceder e imprimir \"hola\" del siguiente diccionario:"
   ]
  },
  {
   "cell_type": "code",
   "execution_count": null,
   "id": "4e3535d0",
   "metadata": {},
   "outputs": [],
   "source": [
    "d = {'c1':[4,1,{'c2':['es otro listado',{'0':[3,1,['hola']]}]}]}"
   ]
  },
  {
   "cell_type": "markdown",
   "id": "58aad6b7",
   "metadata": {},
   "source": [
    "## 10- Basado en el diccionario anterior, que resultado arroja la siguiente expresión?\n",
    "d['c1'][0] > d['c1'][2]['c2'][1]['0'][0]"
   ]
  },
  {
   "cell_type": "code",
   "execution_count": null,
   "id": "cd9b3545",
   "metadata": {},
   "outputs": [],
   "source": []
  }
 ],
 "metadata": {
  "kernelspec": {
   "display_name": "Python 3 (ipykernel)",
   "language": "python",
   "name": "python3"
  },
  "language_info": {
   "codemirror_mode": {
    "name": "ipython",
    "version": 3
   },
   "file_extension": ".py",
   "mimetype": "text/x-python",
   "name": "python",
   "nbconvert_exporter": "python",
   "pygments_lexer": "ipython3",
   "version": "3.11.7"
  }
 },
 "nbformat": 4,
 "nbformat_minor": 5
}
