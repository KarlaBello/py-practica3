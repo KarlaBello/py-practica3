{
 "cells": [
  {
   "cell_type": "markdown",
   "id": "241b2373",
   "metadata": {},
   "source": [
    "# <center>Práctica 3<center>\n",
    "\n",
    "Objetivo:\n",
    "El objetivo de esta práctica es familiarizarte con los diferentes tipos de datos en Python y cómo trabajar con ellos."
   ]
  },
  {
   "cell_type": "markdown",
   "id": "63f9e2f6",
   "metadata": {},
   "source": [
    "## 1- Escribe una breve descripción de los Tipos de Objetos y Estructuras de Datos que se muestran a continuación: \n",
    "\n",
    "* #### Number \n",
    "\n",
    "* #### String\n",
    "\n",
    "* #### List\n",
    "\n",
    "* #### Set\n",
    "\n",
    "* #### Tuple\n",
    "\n",
    "* #### Dictionarie\n",
    "\n",
    "Puedes editar la celda haciendo doble clic sobre ella. "
   ]
  },
  {
   "cell_type": "markdown",
   "id": "ee520963",
   "metadata": {},
   "source": [
    "## 2- Cúal es la diferencia entre List, Tuple y Set?"
   ]
  },
  {
   "cell_type": "markdown",
   "id": "60f5e569",
   "metadata": {},
   "source": [
    "# La unica diferencia entre ella es que las tuplas son inmutables, mientras que en las listas no. En el caso de los sets en estos no podemos modificar un elemento a traves de su indice#"
   ]
  },
  {
   "cell_type": "markdown",
   "id": "94c4c67d",
   "metadata": {},
   "source": [
    "## 3- Crea una lista que contenga números enteros y flotantes e imprimela\n"
   ]
  },
  {
   "cell_type": "code",
   "execution_count": 22,
   "id": "b54bc01e",
   "metadata": {},
   "outputs": [
    {
     "name": "stdout",
     "output_type": "stream",
     "text": [
      "[100, 25, 5, 11.3137, 10.75]\n"
     ]
    }
   ],
   "source": [
    "Num = [100, 25, 5, 11.3137, 10.75]\n",
    "print(Num)\n"
   ]
  },
  {
   "cell_type": "markdown",
   "id": "943c13a1",
   "metadata": {},
   "source": [
    "## 4- Crea una tupla que contenga algunos Strings e imprimela"
   ]
  },
  {
   "cell_type": "code",
   "execution_count": 25,
   "id": "4ce63ffb",
   "metadata": {},
   "outputs": [
    {
     "name": "stdout",
     "output_type": "stream",
     "text": [
      "('manzana', 'banana', 'gato', 'durazno', 'perro')\n"
     ]
    }
   ],
   "source": [
    "tuple = ('manzana', 'banana', 'gato', 'durazno', 'perro')\n",
    "\n",
    "print(tuple)"
   ]
  },
  {
   "cell_type": "markdown",
   "id": "66cc1b05",
   "metadata": {},
   "source": [
    "## 5- Crea un diccionario que tenga como claves algunas de las cadenas de la tupla creada antes y como valores algunos de los números de la lista creada antes e imprime"
   ]
  },
  {
   "cell_type": "code",
   "execution_count": 26,
   "id": "e48aaca3",
   "metadata": {},
   "outputs": [
    {
     "name": "stdout",
     "output_type": "stream",
     "text": [
      "{'manzana': 100, 'banana': 25, 'gato': 5, 'durazno': 11.3137, 'perro': 10.75}\n"
     ]
    }
   ],
   "source": [
    "Diccionario = {\n",
    "    \n",
    "    tuple[0] : Num [0],\n",
    "    tuple[1] : Num [1] ,\n",
    "    tuple[2] : Num [2] ,\n",
    "    tuple[3] : Num [3] ,\n",
    "    tuple[4] : Num [4] \n",
    "}\n",
    "print (Diccionario)"
   ]
  },
  {
   "cell_type": "markdown",
   "id": "020fab64",
   "metadata": {},
   "source": [
    "## 6- Escribe una ecuación de como resultado 150,75 utilizando la multiplicación, la división, la potencia, la raíz cuadrada, la suma y la resta "
   ]
  },
  {
   "cell_type": "code",
   "execution_count": 21,
   "id": "c76f4670",
   "metadata": {},
   "outputs": [
    {
     "data": {
      "text/plain": [
       "150.75370849898476"
      ]
     },
     "execution_count": 21,
     "metadata": {},
     "output_type": "execute_result"
    }
   ],
   "source": [
    "import math\n",
    "\n",
    "resultado = ((20 * 5) + (60 / 2)) - math.sqrt(25) + (2 ** 3.5) + 14.44\n",
    "resultado"
   ]
  },
  {
   "cell_type": "markdown",
   "id": "f325a5d7",
   "metadata": {},
   "source": [
    "## 7- Añade un número al listado creado en el punto 3"
   ]
  },
  {
   "cell_type": "code",
   "execution_count": 27,
   "id": "7d886a09",
   "metadata": {},
   "outputs": [
    {
     "name": "stdout",
     "output_type": "stream",
     "text": [
      "[100, 25, 5, 11.3137, 10.75, 50]\n"
     ]
    }
   ],
   "source": [
    "Num.append(50)\n",
    "\n",
    "print(Num)"
   ]
  },
  {
   "cell_type": "markdown",
   "id": "65fc6d3e",
   "metadata": {},
   "source": [
    "## 8- Convierte el listado anterior en un set e imprimelo"
   ]
  },
  {
   "cell_type": "code",
   "execution_count": 28,
   "id": "0e3e5e0e",
   "metadata": {},
   "outputs": [
    {
     "name": "stdout",
     "output_type": "stream",
     "text": [
      "{100, 5, 10.75, 11.3137, 50, 25}\n"
     ]
    }
   ],
   "source": [
    "setNum = set(Num)\n",
    "\n",
    "print(setNum)\n"
   ]
  },
  {
   "cell_type": "markdown",
   "id": "ea5d9aed",
   "metadata": {},
   "source": [
    "## 9- Utiliza los index y las llaves para acceder e imprimir \"hola\" del siguiente diccionario:"
   ]
  },
  {
   "cell_type": "code",
   "execution_count": 30,
   "id": "4e3535d0",
   "metadata": {},
   "outputs": [
    {
     "name": "stdout",
     "output_type": "stream",
     "text": [
      "hola\n"
     ]
    }
   ],
   "source": [
    "d = {'c1':[4,1,{'c2':['es otro listado',{'0':[3,1,['hola']]}]}]}\n",
    "\n",
    "valor = d['c1'] [2] ['c2'] [1] ['0'] [2] [0]\n",
    "\n",
    "print(valor)"
   ]
  },
  {
   "cell_type": "markdown",
   "id": "58aad6b7",
   "metadata": {},
   "source": [
    "## 10- Basado en el diccionario anterior, que resultado arroja la siguiente expresión?\n",
    "d['c1'][0] > d['c1'][2]['c2'][1]['0'][0]"
   ]
  },
  {
   "cell_type": "code",
   "execution_count": 31,
   "id": "cd9b3545",
   "metadata": {},
   "outputs": [
    {
     "data": {
      "text/plain": [
       "True"
      ]
     },
     "execution_count": 31,
     "metadata": {},
     "output_type": "execute_result"
    }
   ],
   "source": [
    "d['c1'][0] # Esto es 4\n",
    "d['c1'] [2] \n",
    "d['c1'][2]['c2']\n",
    "d['c1'][2]['c2'][1] \n",
    "d['c1'][2]['c2'][1]['0']\n",
    "d['c1'][2]['c2'][1]['0'][0] # Esto es 3 \n",
    "\n",
    "4 > 3"
   ]
  }
 ],
 "metadata": {
  "kernelspec": {
   "display_name": "Python 3 (ipykernel)",
   "language": "python",
   "name": "python3"
  },
  "language_info": {
   "codemirror_mode": {
    "name": "ipython",
    "version": 3
   },
   "file_extension": ".py",
   "mimetype": "text/x-python",
   "name": "python",
   "nbconvert_exporter": "python",
   "pygments_lexer": "ipython3",
   "version": "3.11.9"
  }
 },
 "nbformat": 4,
 "nbformat_minor": 5
}
